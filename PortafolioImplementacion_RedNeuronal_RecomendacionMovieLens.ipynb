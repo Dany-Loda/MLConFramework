{
  "cells": [
    {
      "cell_type": "markdown",
      "metadata": {
        "id": "8tGLMeZ8GKdx"
      },
      "source": [
        "## Implementación de Random Forest con el uso de un framework o librería\n",
        "\n",
        "En este proyecto, se planea construir un sistema de recomendación de películas personalizado utilizando un modelo predictivo basada en el conjunto de datos MovieLens.\n",
        "\n",
        "El objetivo principal de este proyecto es explorar cómo implementar un modelo predictivo para proporcionar a los usuarios recomendaciones de películas altamente personalizadas.\n",
        "\n",
        "---\n",
        "\n",
        "**¿Qué película deberías ver a continuación?**\n",
        "\n",
        "---\n",
        "\n",
        "El conjunto de datos MovieLens nos proporciona una amplia gama de información sobre las calificaciones de los usuarios para diferentes películas. Esta información nos permitirá entrenar un modelo predictivo que pueda predecir las preferencias de los usuarios y ofrecer recomendaciones de películas que se adapten a sus gustos individuales.\n",
        "\n",
        "*Los datos utilizados en este proyecto provienen de MovieLens: https://grouplens.org/datasets/movielens/100k/, una comunidad en línea que reúne calificaciones y revisiones de películas de usuarios de todo el mundo.\n"
      ]
    },
    {
      "cell_type": "markdown",
      "metadata": {
        "id": "n05_ybC_HBwG"
      },
      "source": [
        "### 1. Importar librerías"
      ]
    },
    {
      "cell_type": "code",
      "execution_count": 215,
      "metadata": {
        "id": "dv5OTsZ9GFXO"
      },
      "outputs": [],
      "source": [
        "# Importamos librerias\n",
        "import numpy as np\n",
        "import pandas as pd\n",
        "import tensorflow as tf\n",
        "import matplotlib.pyplot as plt\n",
        "\n",
        "from sklearn.preprocessing import StandardScaler\n",
        "from sklearn.model_selection import train_test_split\n",
        "from sklearn.model_selection import KFold\n",
        "from sklearn.ensemble import RandomForestRegressor\n",
        "from sklearn.tree import DecisionTreeRegressor\n",
        "from sklearn.metrics import mean_squared_error, r2_score\n",
        "\n",
        "\n",
        "from tensorflow import keras\n",
        "from tensorflow.keras.models import Sequential\n",
        "from tensorflow.keras.layers import Input, Dense, BatchNormalization, Dropout\n",
        "from tensorflow.keras.regularizers import l2\n",
        "\n",
        "\n",
        "from tensorflow import keras\n",
        "from tensorflow.keras.models import Sequential\n",
        "\n",
        "from keras.initializers import he_normal\n",
        "\n",
        "import warnings\n",
        "\n",
        "# Para desactivar todos los warnings\n",
        "warnings.filterwarnings('ignore')"
      ]
    },
    {
      "cell_type": "code",
      "execution_count": 2,
      "metadata": {},
      "outputs": [
        {
          "name": "stdout",
          "output_type": "stream",
          "text": [
            "\n",
            "Proyecto de Recomendación de Películas\n",
            "    \n",
            "Este proyecto utiliza el conjunto de datos MovieLens para implementar un sistema de recomendación de películas.\n",
            "El objetivo es proporcionar recomendaciones personalizadas a los usuarios ya existentes basadas en sus preferencias, \n",
            "características personales y patrones de calificación. \n",
            "\n",
            "\n",
            "-----------* Librerias importadas con éxito \n",
            "\n"
          ]
        }
      ],
      "source": [
        "# Introducción al proyecto\n",
        "resumen = \"\"\"\n",
        "Proyecto de Recomendación de Películas\n",
        "    \n",
        "Este proyecto utiliza el conjunto de datos MovieLens para implementar un sistema de recomendación de películas.\n",
        "El objetivo es proporcionar recomendaciones personalizadas a los usuarios ya existentes basadas en sus preferencias, \n",
        "características personales y patrones de calificación. \\n\n",
        "\"\"\"\n",
        "print(resumen)\n",
        "print(\"-----------* Librerias importadas con éxito \\n\")"
      ]
    },
    {
      "cell_type": "markdown",
      "metadata": {},
      "source": [
        "### 2. Definir funciones"
      ]
    },
    {
      "cell_type": "code",
      "execution_count": 23,
      "metadata": {},
      "outputs": [
        {
          "ename": "IndentationError",
          "evalue": "expected an indented block after function definition on line 2 (1693986877.py, line 4)",
          "output_type": "error",
          "traceback": [
            "\u001b[0;36m  Cell \u001b[0;32mIn[23], line 4\u001b[0;36m\u001b[0m\n\u001b[0;31m    genres = data_item[data_item['movie_id'] == movie_id].iloc[:, 5:]\u001b[0m\n\u001b[0m    ^\u001b[0m\n\u001b[0;31mIndentationError\u001b[0m\u001b[0;31m:\u001b[0m expected an indented block after function definition on line 2\n"
          ]
        }
      ],
      "source": [
        "\n",
        "       \n",
        "    # Función para obtener el nombre del género para un 'movie_id'\n",
        "def obtener_genre_name(movie_id):\n",
        "              # Buscamos el movie_id en el dataset data_item y seleccionamos las columnas binarias de cada genre_id\n",
        "    genres = data_item[data_item['movie_id'] == movie_id].iloc[:, 5:] \n",
        "              # Buscamos la columna que tiene el valor máximo (1) y accedemos al nombre de la columna (genre_id)\n",
        "    genre_id = genres.idxmax(axis=1).values[0]\n",
        "              # Con el genre_id y el diccionario, obtenemos el genre_name de el movie_id correspondiente\n",
        "    return genre_mapping[int(genre_id.split('_')[1])]\n",
        "\n",
        "        # Función para definir estructura del modelo de red neuronal\n",
        "def set_nn_model_architecture():\n",
        "        # Define Model\n",
        "    model = Sequential(name='my_sequential_model')\n",
        "\n",
        "        # Hidden Layer 1: Fully-connected layer con 64 unidades y función de activación ReLU\n",
        "    model.add(Dense(units=16, input_shape=X_train_encoded.shape[1:], activation='relu',\n",
        "                    kernel_initializer=he_normal(),\n",
        "                    name='hiddenlayer1'))\n",
        "    \n",
        "        # Capa de salida\n",
        "    model.add(Dense(units=1, activation='linear', name='outputlayer'))\n",
        "\n",
        "    model.summary()\n",
        "\n",
        "    return model\n",
        "\n",
        "        # Función para definir estructura del modelo de red neuronal mejorado\n",
        "def set_nn_model_architecture_better():\n",
        "    # Define Model\n",
        "    model = Sequential(name='my_sequential_model')\n",
        "\n",
        "    # Hidden Layer 1: Fully-connected layer con 64 unidades y función de activación ReLU\n",
        "    model.add(Dense(units=16, input_shape=X_train_encoded.shape[1:], activation='relu',\n",
        "                    kernel_initializer=he_normal(),\n",
        "                    name='hiddenlayer1'))\n",
        "    \n",
        "    model.add(Dropout(rate=0.3))  # Dropout para regularización\n",
        "\n",
        "    # Capas ocultas adicionales con regularización L2 y BatchNormalization\n",
        "    model.add(Dense(units=32, activation='relu', name='hiddenlayer2', kernel_regularizer=l2(0.001)))\n",
        "    model.add(Dense(units=32, activation='relu', name='hiddenlayer3', kernel_regularizer=l2(0.001)))\n",
        "   \n",
        "   # Agrega Batch Normalization después de la capa oculta\n",
        "    model.add(BatchNormalization(name='batch_normalization1'))\n",
        "\n",
        "    model.add(Dense(units=64, activation='relu', name='hiddenlayer4', kernel_regularizer=l2(0.001)))\n",
        "    model.add(Dense(units=64, activation='relu', name='hiddenlayer5', kernel_regularizer=l2(0.001)))\n",
        "    model.add(Dense(units=128, activation='relu', name='hiddenlayer6', kernel_regularizer=l2(0.001)))\n",
        "    model.add(Dense(units=128, activation='relu', name='hiddenlayer7', kernel_regularizer=l2(0.001)))\n",
        "\n",
        "    # Capa de salida\n",
        "    model.add(Dense(units=1, activation='linear', name='outputlayer'))\n",
        "\n",
        "\n",
        "    model.summary()\n",
        "    \n",
        "    return model \n",
        "\n",
        "        #Función para predecir y evaluar modelos multiclase\n",
        "def evaluar_modelo(modelo, X_test, y_test):\n",
        "    # Realizar predicciones en el conjunto de prueba\n",
        "    y_pred = modelo.predict(X_test)\n",
        "\n",
        "    # Calcular el Error Cuadrático Medio (MSE)\n",
        "    mse = mean_squared_error(y_test, y_pred)\n",
        "\n",
        "    # Calcular la Raíz del Error Cuadrático Medio (RMSE)\n",
        "    rmse = np.sqrt(mse)\n",
        "\n",
        "    # Calcular el Coeficiente de Determinación (R2)\n",
        "    r2 = r2_score(y_test, y_pred)\n",
        "    \n",
        "    print(\"Error Cuadrático Medio (MSE):\", mse)\n",
        "    print(\"Raíz del Error Cuadrático Medio (RMSE):\", rmse)\n",
        "    print(\"Coeficiente de Determinación (R2):\", r2)\n",
        "\n",
        "        # Función para trazar las curvas de aprendizaje\n",
        "def plot_acc_loss(training_history):\n",
        "    plt.plot(training_history.history['loss'])\n",
        "    plt.plot(training_history.history['val_loss'])\n",
        "    plt.title('Loss vs. Epochs')\n",
        "    plt.ylabel('Loss')\n",
        "    plt.xlabel('Epoch')\n",
        "    plt.legend(['Training', 'Validation'], loc='upper right')\n",
        "    plt.show()\n",
        "\n",
        "print(\"-----------* Funciones definidas con éxito \\n\")"
      ]
    },
    {
      "cell_type": "markdown",
      "metadata": {
        "id": "MYeAJ47EHQWg"
      },
      "source": [
        "### 3. Importar datos"
      ]
    },
    {
      "cell_type": "code",
      "execution_count": 4,
      "metadata": {},
      "outputs": [
        {
          "name": "stdout",
          "output_type": "stream",
          "text": [
            "-----------* Datos importados con éxito \n",
            "\n",
            "Para realizar el proyecto, se tienen los siguientes datos.\n",
            "- Cantidad de usuarios: 943\n",
            "- Cantidad de películas: 1682\n",
            "- Cantidad de calificaciones: 100000\n"
          ]
        }
      ],
      "source": [
        "# Cargamos los datasets (la carpeta MovieLens debe estar en la misma carpeta que el programa)\n",
        "    # Leer el archivo u_data en un DataFrame\n",
        "data_general = pd.read_csv('MovieLens/u_data', sep='\\t', names=['user_id', 'movie_id', 'rating', 'timestamp'])\n",
        "\n",
        "    # Leer el archivo u_genre en un DataFrame\n",
        "data_genre = pd.read_csv('MovieLens/u_genre', sep='|', names=['genre_name', 'genre_id'])\n",
        "\n",
        "    # Leer el archivo u_item en un DataFrame\n",
        "        # Lista de nombres de columnas para el DataFrame\n",
        "columns = ['movie_id', 'movie_title', 'release_date', 'video_release_date', 'IMDb_URL'] + [f'genre_{i}' for i in range(19)]\n",
        "data_item = pd.read_csv('MovieLens/u_item', sep='|', names=columns, encoding='latin-1')   \n",
        "\n",
        "    # Lee el archivo 'u_user' usando '|'\n",
        "data_user = pd.read_csv('MovieLens/u_user', sep='|', names=['user_id', 'age', 'gender', 'occupation', 'zip_code']) \n",
        "\n",
        "    # Lee el archivo u_info y almacena la información en variables individuales\n",
        "with open('MovieLens/u_info', 'r') as file:\n",
        "    lines = file.readlines()\n",
        "    users_count = int(lines[0].split()[0])\n",
        "    items_count = int(lines[1].split()[0])\n",
        "    ratings_count = int(lines[2].split()[0])\n",
        "\n",
        "print(\"-----------* Datos importados con éxito \\n\")\n",
        "\n",
        "# Muestra la información de u_info\n",
        "print(\"Para realizar el proyecto, se tienen los siguientes datos.\")\n",
        "print(\"- Cantidad de usuarios:\", users_count)\n",
        "print(\"- Cantidad de películas:\", items_count)\n",
        "print(\"- Cantidad de calificaciones:\", ratings_count)"
      ]
    },
    {
      "cell_type": "markdown",
      "metadata": {},
      "source": [
        "### 4. Combinar datos"
      ]
    },
    {
      "cell_type": "code",
      "execution_count": 5,
      "metadata": {},
      "outputs": [
        {
          "name": "stdout",
          "output_type": "stream",
          "text": [
            "-----------* Combinando datos... \n",
            "\n",
            "-----------* Datos combinados con éxito \n",
            "\n",
            "       user_id  movie_id  age gender genre_name  rating\n",
            "0          196       242   49      M     Comedy       3\n",
            "1          196       393   49      M     Comedy       4\n",
            "2          196       381   49      M     Comedy       4\n",
            "3          196       251   49      M     Comedy       3\n",
            "4          196       655   49      M  Adventure       5\n",
            "...        ...       ...  ...    ...        ...     ...\n",
            "99995      941       919   20      M  Adventure       5\n",
            "99996      941       273   20      M     Action       3\n",
            "99997      941         1   20      M  Animation       5\n",
            "99998      941       294   20      M     Comedy       4\n",
            "99999      941      1007   20      M     Comedy       4\n",
            "\n",
            "[100000 rows x 6 columns]\n",
            "\n",
            " Estos son los datos que utilizaremos para entrenar nuestros modelos. \n",
            "\n"
          ]
        }
      ],
      "source": [
        "print(\"-----------* Combinando datos... \\n\")\n",
        "\n",
        "# Fusionar los DataFrames\n",
        "merged_data = pd.merge(data_general, data_user, on='user_id') # Combinamos las calificaciones con las características del usuario\n",
        "\n",
        "# Añadimos el género de las peliculas segun su id\n",
        "       # Crear un diccionario que mapee 'genre_id' a 'genre_name'\n",
        "genre_mapping = dict(data_genre[['genre_id', 'genre_name']].values)\n",
        "\n",
        "# Aplicar la función obtener_genre_name para crear la columna 'genre_name'\n",
        "merged_data['genre_name'] = merged_data['movie_id'].apply(obtener_genre_name)\n",
        "\n",
        "# Seleccionar las columnas de interés\n",
        "final_data = merged_data[['user_id', 'movie_id', 'age', 'gender', 'genre_name', 'rating']] # Quitamos la columna timestamp, zip_code y genre_id\n",
        "\n",
        "# Mostrar el DataFrame resultante\n",
        "print(\"-----------* Datos combinados con éxito \\n\")\n",
        "\n",
        "print(final_data)\n",
        "print(\"\\n Estos son los datos que utilizaremos para entrenar nuestros modelos. \\n\")"
      ]
    },
    {
      "cell_type": "markdown",
      "metadata": {
        "id": "VKjDq3JaNg7S"
      },
      "source": [
        "### 5. Dividir datos (Entrenamiento y prueba)\n"
      ]
    },
    {
      "cell_type": "code",
      "execution_count": 6,
      "metadata": {
        "id": "QoGfB_ISNkAH"
      },
      "outputs": [
        {
          "name": "stdout",
          "output_type": "stream",
          "text": [
            "-----------* Datos divididos para entrenamiento y prueba con éxito \n",
            "\n"
          ]
        }
      ],
      "source": [
        "# Definir X y y\n",
        "X = final_data[['user_id', 'movie_id', 'age', 'gender', 'genre_name']]\n",
        "y = final_data['rating']\n",
        "\n",
        "X_train, X_test, y_train, y_test = train_test_split(X, y, test_size = 0.2, random_state=44)\n",
        "\n",
        "# Ajustar los datos a los modelos que no manejan cualitativas originales\n",
        "X_encoded = pd.get_dummies(X, columns=['gender', 'genre_name'], drop_first=True)\n",
        "X_train_encoded, X_test_encoded, y_train_encoded, y_test_encoded = train_test_split(X_encoded, y, test_size = 0.2, random_state=44)\n",
        "\n",
        "print(\"-----------* Datos divididos para entrenamiento y prueba con éxito \\n\")"
      ]
    },
    {
      "cell_type": "markdown",
      "metadata": {
        "id": "okwrQGggQefx"
      },
      "source": [
        "### 4. Entrenar modelos\n",
        "\n",
        "#### *Árbol de decisión*"
      ]
    },
    {
      "cell_type": "code",
      "execution_count": 7,
      "metadata": {},
      "outputs": [
        {
          "name": "stdout",
          "output_type": "stream",
          "text": [
            "-----------* Creación del primer modelo con éxito \n",
            "\n",
            "-----------* Primer modelo entrenado con éxito \n",
            "\n",
            "Evaluación del primer modelo: Árbol de decisión \n",
            "\n",
            "Error Cuadrático Medio (MSE): 1.159606552218771\n",
            "Raíz del Error Cuadrático Medio (RMSE): 1.0768502923892305\n",
            "Coeficiente de Determinación (R2): 0.07900849501151119\n",
            " \n",
            "      \n",
            "Continuaremos explorando otros modelos...\n"
          ]
        }
      ],
      "source": [
        "# Crear el modelo de Árbol de Decisión\n",
        "decision_tree_model = DecisionTreeRegressor(max_depth=5, random_state=42)\n",
        "    # profundidad máxima de 5 para el árbol de decisión con el propósito de acelerar el tiempo de entrenamiento y prevenir el sobreajuste\n",
        "\n",
        "print(\"-----------* Creación del primer modelo con éxito \\n\")\n",
        "\n",
        "# Entrenar el modelo en los datos de entrenamiento\n",
        "decision_tree_model.fit(X_train_encoded, y_train_encoded)\n",
        "\n",
        "print(\"-----------* Primer modelo entrenado con éxito \\n\")\n",
        "\n",
        "# Realizar predicciones en el conjunto de prueba y evaluar el modelo\n",
        "print(\"Evaluación del primer modelo: Árbol de decisión \\n\")\n",
        "evaluar_modelo(decision_tree_model, X_test_encoded, y_test_encoded)\n",
        "\n",
        "# Despliegue de conclusión\n",
        "print(\"\"\" \n",
        "      \n",
        "Continuaremos explorando otros modelos...\"\"\")"
      ]
    },
    {
      "cell_type": "markdown",
      "metadata": {},
      "source": [
        "#### *Random Forest*"
      ]
    },
    {
      "cell_type": "code",
      "execution_count": 11,
      "metadata": {},
      "outputs": [
        {
          "name": "stdout",
          "output_type": "stream",
          "text": [
            "-----------* Creación del segundo modelo con éxito \n",
            "\n",
            "-----------* Segundo modelo entrenado con éxito \n",
            "\n",
            "Evaluación del segundo modelo: Random Forest \n",
            "\n",
            "Error Cuadrático Medio (MSE): 1.0617706355555554\n",
            "Raíz del Error Cuadrático Medio (RMSE): 1.0304225519443737\n",
            "Coeficiente de Determinación (R2): 0.15671247827822876\n",
            " \n",
            "      \n",
            "Continuaremos explorando otros modelos...\n"
          ]
        }
      ],
      "source": [
        "# Crear el modelo de Random Forest\n",
        "random_forest_model = RandomForestRegressor(n_estimators=300, random_state=42)\n",
        "print(\"-----------* Creación del segundo modelo con éxito \\n\")\n",
        "\n",
        "# Entrenar el modelo en los datos de entrenamiento\n",
        "random_forest_model.fit(X_train_encoded, y_train_encoded)\n",
        "\n",
        "print(\"-----------* Segundo modelo entrenado con éxito \\n\")\n",
        "\n",
        "# Realizar predicciones en el conjunto de prueba y evaluar el modelo\n",
        "print(\"Evaluación del segundo modelo: Random Forest \\n\")\n",
        "evaluar_modelo(random_forest_model, X_test_encoded, y_test_encoded)\n",
        "\n",
        "# Despliegue de conclusión\n",
        "print(\"\"\" \n",
        "      \n",
        "Continuaremos explorando otros modelos...\"\"\")\n"
      ]
    },
    {
      "cell_type": "markdown",
      "metadata": {},
      "source": [
        "#### *Red Neuronal*"
      ]
    },
    {
      "cell_type": "code",
      "execution_count": 69,
      "metadata": {},
      "outputs": [],
      "source": [
        "# Inicializa el objeto StandardScaler\n",
        "scaler = StandardScaler()\n",
        "\n",
        "# Ajusta (calcula la media y la desviación estándar) y transforma X_train_encoded\n",
        "X_train_scaled = scaler.fit_transform(X_train_encoded)\n",
        "\n",
        "# Solo transforma X_test_encoded usando los parámetros aprendidos en X_train_encoded\n",
        "X_test_scaled = scaler.transform(X_test_encoded)"
      ]
    },
    {
      "cell_type": "code",
      "execution_count": 70,
      "metadata": {},
      "outputs": [
        {
          "name": "stdout",
          "output_type": "stream",
          "text": [
            "Model: \"my_sequential_model\"\n",
            "_________________________________________________________________\n",
            " Layer (type)                Output Shape              Param #   \n",
            "=================================================================\n",
            " hiddenlayer1 (Dense)        (None, 16)                368       \n",
            "                                                                 \n",
            " outputlayer (Dense)         (None, 1)                 17        \n",
            "                                                                 \n",
            "=================================================================\n",
            "Total params: 385\n",
            "Trainable params: 385\n",
            "Non-trainable params: 0\n",
            "_________________________________________________________________\n"
          ]
        },
        {
          "name": "stdout",
          "output_type": "stream",
          "text": [
            "-----------* Creación del tercer modelo con éxito \n",
            "\n",
            "Epoch 1/100\n",
            "2125/2125 [==============================] - 1s 301us/step - loss: 1.9107 - val_loss: 1.2164\n",
            "Epoch 2/100\n",
            "2125/2125 [==============================] - 1s 302us/step - loss: 1.2183 - val_loss: 1.2085\n",
            "Epoch 3/100\n",
            "2125/2125 [==============================] - 1s 284us/step - loss: 1.2049 - val_loss: 1.2101\n",
            "Epoch 4/100\n",
            "2125/2125 [==============================] - 1s 283us/step - loss: 1.1979 - val_loss: 1.2021\n",
            "Epoch 5/100\n",
            "2125/2125 [==============================] - 1s 287us/step - loss: 1.1967 - val_loss: 1.2087\n",
            "Epoch 6/100\n",
            "2125/2125 [==============================] - 1s 292us/step - loss: 1.1946 - val_loss: 1.2013\n",
            "Epoch 7/100\n",
            "2125/2125 [==============================] - 1s 291us/step - loss: 1.1934 - val_loss: 1.2013\n",
            "Epoch 8/100\n",
            "2125/2125 [==============================] - 1s 278us/step - loss: 1.1927 - val_loss: 1.1996\n",
            "Epoch 9/100\n",
            "2125/2125 [==============================] - 1s 278us/step - loss: 1.1923 - val_loss: 1.2043\n",
            "Epoch 10/100\n",
            "2125/2125 [==============================] - 1s 291us/step - loss: 1.1917 - val_loss: 1.1954\n",
            "Epoch 11/100\n",
            "2125/2125 [==============================] - 1s 279us/step - loss: 1.1913 - val_loss: 1.1969\n",
            "Epoch 12/100\n",
            "2125/2125 [==============================] - 1s 280us/step - loss: 1.1897 - val_loss: 1.1963\n",
            "Epoch 13/100\n",
            "2125/2125 [==============================] - 1s 279us/step - loss: 1.1901 - val_loss: 1.1968\n",
            "Epoch 14/100\n",
            "2125/2125 [==============================] - 1s 279us/step - loss: 1.1884 - val_loss: 1.2037\n",
            "Epoch 15/100\n",
            "2125/2125 [==============================] - 1s 286us/step - loss: 1.1884 - val_loss: 1.2124\n",
            "Epoch 16/100\n",
            "2125/2125 [==============================] - 1s 278us/step - loss: 1.1881 - val_loss: 1.2067\n",
            "Epoch 17/100\n",
            "2125/2125 [==============================] - 1s 276us/step - loss: 1.1873 - val_loss: 1.2040\n",
            "Epoch 18/100\n",
            "2125/2125 [==============================] - 1s 280us/step - loss: 1.1882 - val_loss: 1.1957\n",
            "Epoch 19/100\n",
            "2125/2125 [==============================] - 1s 279us/step - loss: 1.1862 - val_loss: 1.2011\n",
            "Epoch 20/100\n",
            "2125/2125 [==============================] - 1s 285us/step - loss: 1.1859 - val_loss: 1.1948\n",
            "Epoch 21/100\n",
            "2125/2125 [==============================] - 1s 277us/step - loss: 1.1863 - val_loss: 1.1955\n",
            "Epoch 22/100\n",
            "2125/2125 [==============================] - 1s 287us/step - loss: 1.1860 - val_loss: 1.1962\n",
            "Epoch 23/100\n",
            "2125/2125 [==============================] - 1s 277us/step - loss: 1.1851 - val_loss: 1.1976\n",
            "Epoch 24/100\n",
            "2125/2125 [==============================] - 1s 282us/step - loss: 1.1846 - val_loss: 1.2021\n",
            "Epoch 25/100\n",
            "2125/2125 [==============================] - 1s 286us/step - loss: 1.1853 - val_loss: 1.1920\n",
            "Epoch 26/100\n",
            "2125/2125 [==============================] - 1s 278us/step - loss: 1.1848 - val_loss: 1.1949\n",
            "Epoch 27/100\n",
            "2125/2125 [==============================] - 1s 280us/step - loss: 1.1847 - val_loss: 1.1926\n",
            "Epoch 28/100\n",
            "2125/2125 [==============================] - 1s 278us/step - loss: 1.1834 - val_loss: 1.1960\n",
            "Epoch 29/100\n",
            "2125/2125 [==============================] - 1s 278us/step - loss: 1.1834 - val_loss: 1.1947\n",
            "Epoch 30/100\n",
            "2125/2125 [==============================] - 1s 286us/step - loss: 1.1845 - val_loss: 1.1928\n",
            "Epoch 31/100\n",
            "2125/2125 [==============================] - 1s 278us/step - loss: 1.1836 - val_loss: 1.1932\n",
            "Epoch 32/100\n",
            "2125/2125 [==============================] - 1s 286us/step - loss: 1.1842 - val_loss: 1.1978\n",
            "Epoch 33/100\n",
            "2125/2125 [==============================] - 1s 283us/step - loss: 1.1837 - val_loss: 1.1936\n",
            "Epoch 34/100\n",
            "2125/2125 [==============================] - 1s 287us/step - loss: 1.1833 - val_loss: 1.1916\n",
            "Epoch 35/100\n",
            "2125/2125 [==============================] - 1s 284us/step - loss: 1.1826 - val_loss: 1.2012\n",
            "Epoch 36/100\n",
            "2125/2125 [==============================] - 1s 284us/step - loss: 1.1836 - val_loss: 1.1936\n",
            "Epoch 37/100\n",
            "2125/2125 [==============================] - 1s 286us/step - loss: 1.1827 - val_loss: 1.1919\n",
            "Epoch 38/100\n",
            "2125/2125 [==============================] - 1s 298us/step - loss: 1.1815 - val_loss: 1.1944\n",
            "Epoch 39/100\n",
            "2125/2125 [==============================] - 1s 285us/step - loss: 1.1828 - val_loss: 1.1951\n",
            "Epoch 40/100\n",
            "2125/2125 [==============================] - 1s 287us/step - loss: 1.1817 - val_loss: 1.1936\n",
            "Epoch 41/100\n",
            "2125/2125 [==============================] - 1s 282us/step - loss: 1.1821 - val_loss: 1.1908\n",
            "Epoch 42/100\n",
            "2125/2125 [==============================] - 1s 294us/step - loss: 1.1817 - val_loss: 1.1915\n",
            "Epoch 43/100\n",
            "2125/2125 [==============================] - 1s 279us/step - loss: 1.1803 - val_loss: 1.1892\n",
            "Epoch 44/100\n",
            "2125/2125 [==============================] - 1s 278us/step - loss: 1.1803 - val_loss: 1.1936\n",
            "Epoch 45/100\n",
            "2125/2125 [==============================] - 1s 274us/step - loss: 1.1793 - val_loss: 1.1938\n",
            "Epoch 46/100\n",
            "2125/2125 [==============================] - 1s 270us/step - loss: 1.1798 - val_loss: 1.1911\n",
            "Epoch 47/100\n",
            "2125/2125 [==============================] - 1s 287us/step - loss: 1.1803 - val_loss: 1.1863\n",
            "Epoch 48/100\n",
            "2125/2125 [==============================] - 1s 279us/step - loss: 1.1787 - val_loss: 1.1885\n",
            "Epoch 49/100\n",
            "2125/2125 [==============================] - 1s 277us/step - loss: 1.1782 - val_loss: 1.1871\n",
            "Epoch 50/100\n",
            "2125/2125 [==============================] - 1s 273us/step - loss: 1.1789 - val_loss: 1.1872\n",
            "Epoch 51/100\n",
            "2125/2125 [==============================] - 1s 285us/step - loss: 1.1783 - val_loss: 1.1910\n",
            "Epoch 52/100\n",
            "2125/2125 [==============================] - 1s 280us/step - loss: 1.1778 - val_loss: 1.1860\n",
            "Epoch 53/100\n",
            "2125/2125 [==============================] - 1s 277us/step - loss: 1.1781 - val_loss: 1.1899\n",
            "Epoch 54/100\n",
            "2125/2125 [==============================] - 1s 274us/step - loss: 1.1785 - val_loss: 1.1933\n",
            "Epoch 55/100\n",
            "2125/2125 [==============================] - 1s 273us/step - loss: 1.1767 - val_loss: 1.1892\n",
            "Epoch 56/100\n",
            "2125/2125 [==============================] - 1s 286us/step - loss: 1.1784 - val_loss: 1.1917\n",
            "Epoch 57/100\n",
            "2125/2125 [==============================] - 1s 279us/step - loss: 1.1774 - val_loss: 1.1918\n",
            "Epoch 58/100\n",
            "2125/2125 [==============================] - 1s 278us/step - loss: 1.1777 - val_loss: 1.1869\n",
            "Epoch 59/100\n",
            "2125/2125 [==============================] - 1s 277us/step - loss: 1.1776 - val_loss: 1.1861\n",
            "Epoch 60/100\n",
            "2125/2125 [==============================] - 1s 277us/step - loss: 1.1764 - val_loss: 1.1886\n",
            "Epoch 61/100\n",
            "2125/2125 [==============================] - 1s 289us/step - loss: 1.1772 - val_loss: 1.1860\n",
            "Epoch 62/100\n",
            "2125/2125 [==============================] - 1s 278us/step - loss: 1.1770 - val_loss: 1.1905\n",
            "Epoch 63/100\n",
            "2125/2125 [==============================] - 1s 277us/step - loss: 1.1761 - val_loss: 1.1932\n",
            "Epoch 64/100\n",
            "2125/2125 [==============================] - 1s 278us/step - loss: 1.1766 - val_loss: 1.1870\n",
            "Epoch 65/100\n",
            "2125/2125 [==============================] - 1s 286us/step - loss: 1.1764 - val_loss: 1.2028\n",
            "Epoch 66/100\n",
            "2125/2125 [==============================] - 1s 277us/step - loss: 1.1774 - val_loss: 1.1861\n",
            "Epoch 67/100\n",
            "2125/2125 [==============================] - 1s 276us/step - loss: 1.1765 - val_loss: 1.1941\n",
            "Epoch 68/100\n",
            "2125/2125 [==============================] - 1s 276us/step - loss: 1.1766 - val_loss: 1.1859\n",
            "Epoch 69/100\n",
            "2125/2125 [==============================] - 1s 285us/step - loss: 1.1767 - val_loss: 1.1895\n",
            "Epoch 70/100\n",
            "2125/2125 [==============================] - 1s 280us/step - loss: 1.1761 - val_loss: 1.1897\n",
            "Epoch 71/100\n",
            "2125/2125 [==============================] - 1s 278us/step - loss: 1.1766 - val_loss: 1.1917\n",
            "Epoch 72/100\n",
            "2125/2125 [==============================] - 1s 279us/step - loss: 1.1771 - val_loss: 1.1849\n",
            "Epoch 73/100\n",
            "2125/2125 [==============================] - 1s 280us/step - loss: 1.1756 - val_loss: 1.1916\n",
            "Epoch 74/100\n",
            "2125/2125 [==============================] - 1s 289us/step - loss: 1.1764 - val_loss: 1.1845\n",
            "Epoch 75/100\n",
            "2125/2125 [==============================] - 1s 280us/step - loss: 1.1765 - val_loss: 1.1878\n",
            "Epoch 76/100\n",
            "2125/2125 [==============================] - 1s 277us/step - loss: 1.1760 - val_loss: 1.1844\n",
            "Epoch 77/100\n",
            "2125/2125 [==============================] - 1s 277us/step - loss: 1.1759 - val_loss: 1.1909\n",
            "Epoch 78/100\n",
            "2125/2125 [==============================] - 1s 287us/step - loss: 1.1765 - val_loss: 1.1867\n",
            "Epoch 79/100\n",
            "2125/2125 [==============================] - 1s 280us/step - loss: 1.1762 - val_loss: 1.1819\n",
            "Epoch 80/100\n",
            "2125/2125 [==============================] - 1s 278us/step - loss: 1.1758 - val_loss: 1.1872\n",
            "Epoch 81/100\n",
            "2125/2125 [==============================] - 1s 278us/step - loss: 1.1760 - val_loss: 1.1848\n",
            "Epoch 82/100\n",
            "2125/2125 [==============================] - 1s 287us/step - loss: 1.1748 - val_loss: 1.1842\n",
            "Epoch 83/100\n",
            "2125/2125 [==============================] - 1s 277us/step - loss: 1.1765 - val_loss: 1.1829\n",
            "Epoch 84/100\n",
            "2125/2125 [==============================] - 1s 276us/step - loss: 1.1753 - val_loss: 1.1857\n",
            "Epoch 85/100\n",
            "2125/2125 [==============================] - 1s 278us/step - loss: 1.1740 - val_loss: 1.1897\n",
            "Epoch 86/100\n",
            "2125/2125 [==============================] - 1s 278us/step - loss: 1.1770 - val_loss: 1.1891\n",
            "Epoch 87/100\n",
            "2125/2125 [==============================] - 1s 286us/step - loss: 1.1756 - val_loss: 1.1892\n",
            "Epoch 88/100\n",
            "2125/2125 [==============================] - 1s 279us/step - loss: 1.1755 - val_loss: 1.1813\n",
            "Epoch 89/100\n",
            "2125/2125 [==============================] - 1s 278us/step - loss: 1.1740 - val_loss: 1.1884\n",
            "Epoch 90/100\n",
            "2125/2125 [==============================] - 1s 278us/step - loss: 1.1755 - val_loss: 1.1838\n",
            "Epoch 91/100\n",
            "2125/2125 [==============================] - 1s 286us/step - loss: 1.1746 - val_loss: 1.1851\n",
            "Epoch 92/100\n",
            "2125/2125 [==============================] - 1s 278us/step - loss: 1.1752 - val_loss: 1.1890\n",
            "Epoch 93/100\n",
            "2125/2125 [==============================] - 1s 279us/step - loss: 1.1755 - val_loss: 1.1834\n",
            "Epoch 94/100\n",
            "2125/2125 [==============================] - 1s 277us/step - loss: 1.1754 - val_loss: 1.1875\n",
            "Epoch 95/100\n",
            "2125/2125 [==============================] - 1s 284us/step - loss: 1.1749 - val_loss: 1.1896\n",
            "Epoch 96/100\n",
            "2125/2125 [==============================] - 1s 276us/step - loss: 1.1750 - val_loss: 1.1940\n",
            "Epoch 97/100\n",
            "2125/2125 [==============================] - 1s 280us/step - loss: 1.1753 - val_loss: 1.1839\n",
            "Epoch 98/100\n",
            "2125/2125 [==============================] - 1s 279us/step - loss: 1.1749 - val_loss: 1.1842\n",
            "Epoch 99/100\n",
            "2125/2125 [==============================] - 1s 280us/step - loss: 1.1750 - val_loss: 1.1842\n",
            "Epoch 100/100\n",
            "2125/2125 [==============================] - 1s 286us/step - loss: 1.1743 - val_loss: 1.1867\n",
            "-----------* Tercer modelo entrenado con éxito \n",
            "\n"
          ]
        }
      ],
      "source": [
        "# Establece la semilla aleatoria en NumPy para la aleatoriedad controlada\n",
        "np.random.seed(0)\n",
        "\n",
        "# Crea tu modelo\n",
        "model_nn = set_nn_model_architecture()\n",
        "\n",
        "print(\"-----------* Creación del tercer modelo con éxito \\n\")\n",
        "\n",
        "# Define el optimizador\n",
        "adam = tf.keras.optimizers.legacy.Adam(learning_rate=0.001)\n",
        "\n",
        "# Compila el modelo\n",
        "model_nn.compile(optimizer=adam, loss='mean_squared_error')\n",
        "\n",
        "# Entrena el modelo\n",
        "training_history = model_nn.fit(X_train_scaled, y_train_encoded, epochs=100, validation_split=0.15)\n",
        "\n",
        "print(\"-----------* Tercer modelo entrenado con éxito \\n\")"
      ]
    },
    {
      "cell_type": "code",
      "execution_count": 71,
      "metadata": {},
      "outputs": [
        {
          "name": "stdout",
          "output_type": "stream",
          "text": [
            "Evaluación del cuarto modelo: Red Neuronal \n",
            "\n",
            "625/625 [==============================] - 0s 182us/step\n",
            "Error Cuadrático Medio (MSE): 1.1790244052980738\n",
            "Raíz del Error Cuadrático Medio (RMSE): 1.0858289024050123\n",
            "Coeficiente de Determinación (R2): 0.06358630056380477\n"
          ]
        }
      ],
      "source": [
        "# Realizar predicciones en el conjunto de prueba y evaluar el modelo\n",
        "print(\"Evaluación del cuarto modelo: Red Neuronal \\n\")\n",
        "evaluar_modelo(model_nn, X_test_scaled, y_test_encoded)"
      ]
    },
    {
      "cell_type": "markdown",
      "metadata": {},
      "source": [
        "### 5. Seleccionar modelo\n"
      ]
    },
    {
      "cell_type": "code",
      "execution_count": 49,
      "metadata": {},
      "outputs": [
        {
          "name": "stdout",
          "output_type": "stream",
          "text": [
            "\n",
            "Observando las evaluaciones de cada modelo, se selecciona el modelo de...\n",
            "\n",
            "RED NEURONAL\n",
            "      \n",
            "La decisión fue tomado por su capacidad de abordar la complejidad de los datos y el potencial que se le \n",
            "ve al modelo para mejorar mediante validación cruzada. Además se toma en cuenta que con 100,000 registros es suficiente\n",
            "para entrenar una Red Neuronal.\n",
            "\n",
            "-----------* Modelo seleccionado con éxito \n",
            "\n"
          ]
        }
      ],
      "source": [
        "print(\"\"\"\n",
        "Observando las evaluaciones de cada modelo, se selecciona el modelo de...\n",
        "\n",
        "RED NEURONAL\n",
        "      \n",
        "La decisión fue tomado por su capacidad de abordar la complejidad de los datos y el potencial que se le \n",
        "ve al modelo para mejorar mediante validación cruzada. Además se toma en cuenta que con 100,000 registros es suficiente\n",
        "para entrenar una Red Neuronal.\n",
        "\"\"\")\n",
        "      \n",
        "print(\"-----------* Modelo seleccionado con éxito \\n\")"
      ]
    },
    {
      "cell_type": "markdown",
      "metadata": {},
      "source": [
        "### 6. Análisis del modelo"
      ]
    },
    {
      "cell_type": "code",
      "execution_count": 50,
      "metadata": {},
      "outputs": [
        {
          "name": "stdout",
          "output_type": "stream",
          "text": [
            "\n",
            "Realizaremos un análisis profundo de nuestro modelo de Red Neuronal original. \n",
            "Posterior a esto, se mejorará el modelo y se volverá a analizar.\n",
            "\n"
          ]
        }
      ],
      "source": [
        "print(\"\"\"\n",
        "Realizaremos un análisis profundo de nuestro modelo de Red Neuronal original. \n",
        "Posterior a esto, se mejorará el modelo y se volverá a analizar.\n",
        "\"\"\")"
      ]
    },
    {
      "cell_type": "code",
      "execution_count": 75,
      "metadata": {},
      "outputs": [
        {
          "name": "stdout",
          "output_type": "stream",
          "text": [
            "\n",
            " Análisis del modelo: Red Neuronal Original \n",
            "\n"
          ]
        },
        {
          "data": {
            "image/png": "[encoded data removed]",
            "text/plain": [
              "<Figure size 640x480 with 1 Axes>"
            ]
          },
          "metadata": {},
          "output_type": "display_data"
        },
        {
          "data": {
            "image/png": "[encoded data removed]",
            "text/plain": [
              "<Figure size 640x480 with 1 Axes>"
            ]
          },
          "metadata": {},
          "output_type": "display_data"
        },
        {
          "name": "stdout",
          "output_type": "stream",
          "text": [
            "                   Loss\n",
            "Entrenamiento  1.174328\n",
            "Validación     1.182657\n"
          ]
        }
      ],
      "source": [
        "print(\"\\n Análisis del modelo: Red Neuronal Original \\n\")\n",
        "#plt.ylim(1.1, 7)\n",
        "plot_acc_loss(training_history) # Observamos su exactitud y pérdida a lo largo de las epochs\n",
        "\n",
        "plt.ylim(1, 1.4)\n",
        "plot_acc_loss(training_history) # hacemos zoom\n",
        "\n",
        "\n",
        "# Crear un nuevo DataFrame con las métricas finales\n",
        "df_last_metrics = pd.DataFrame({\n",
        "    'Loss': [training_history.history['loss'][-1], training_history.history['val_loss'][-1]]\n",
        "}, index=['Entrenamiento', 'Validación'])\n",
        "\n",
        "print(df_last_metrics)"
      ]
    },
    {
      "cell_type": "code",
      "execution_count": 105,
      "metadata": {},
      "outputs": [
        {
          "name": "stdout",
          "output_type": "stream",
          "text": [
            "\n",
            "Nos damos cuenta que el modelo presenta un comportamiento de underfitting. \n",
            "\n",
            "Ambas pérdidas disminuyen a lo largo de las epochs, esto nos da una señal positiva acerca del comportamiento del modelo. Además, la diferencia entre \n",
            "las pérdidas de entrenamiento y validación es pequeña, lo que indica que el modelo generaliza bastante bien y no está sobreajustando en gran medida \n",
            "a los datos de entrenamiento. Sin embargo, también observamos una pérdida de valor significativo y esto representa un sesgo alto y bajo ajuste de modelo. \n",
            "Esto indica que el modelo es demasiado simple para capturar la complejidad de los datos y es posible que el modelo \n",
            "necesite una mayor capacidad o una arquitectura más compleja para mejorar su rendimiento.\n",
            "\n",
            " \n",
            "      \n",
            "Continuaremos a mejorar el modelo...\n"
          ]
        }
      ],
      "source": [
        "print(\"\"\"\n",
        "Nos damos cuenta que el modelo presenta un comportamiento de underfitting. \n",
        "\n",
        "Ambas pérdidas disminuyen a lo largo de las epochs, esto nos da una señal positiva acerca del comportamiento del modelo. Además, la diferencia entre \n",
        "las pérdidas de entrenamiento y validación es pequeña, lo que indica que el modelo generaliza bastante bien y no está sobreajustando en gran medida \n",
        "a los datos de entrenamiento. Sin embargo, también observamos una pérdida de valor significativo y esto representa un sesgo alto y bajo ajuste de modelo. \n",
        "Esto indica que el modelo es demasiado simple para capturar la complejidad de los datos y es posible que el modelo \n",
        "necesite una mayor capacidad o una arquitectura más compleja para mejorar su rendimiento.\n",
        "\"\"\")\n",
        "      \n",
        "# Despliegue de conclusión\n",
        "print(\"\"\" \n",
        "      \n",
        "Continuaremos a mejorar el modelo...\"\"\")"
      ]
    },
    {
      "cell_type": "markdown",
      "metadata": {},
      "source": [
        "### 6. Mejorar modelo"
      ]
    },
    {
      "cell_type": "code",
      "execution_count": 106,
      "metadata": {},
      "outputs": [
        {
          "name": "stdout",
          "output_type": "stream",
          "text": [
            "\n",
            "Para mejorar el modelo, aplicaremos cross validation (k-folds), dropout y batch normalization. Además añadiremos capas ocultas para agregar \n",
            "complejidad a la estructura de nuestra red neuronal\n",
            "\n"
          ]
        }
      ],
      "source": [
        "print(\"\"\"\n",
        "Para mejorar el modelo, aplicaremos dropout y batch normalization. Además añadiremos capas ocultas para agregar \n",
        "complejidad a la estructura de nuestra red neuronal\n",
        "\"\"\")"
      ]
    },
    {
      "cell_type": "code",
      "execution_count": 78,
      "metadata": {},
      "outputs": [
        {
          "name": "stdout",
          "output_type": "stream",
          "text": [
            "Model: \"my_sequential_model\"\n",
            "_________________________________________________________________\n",
            " Layer (type)                Output Shape              Param #   \n",
            "=================================================================\n",
            " hiddenlayer1 (Dense)        (None, 16)                368       \n",
            "                                                                 \n",
            " dropout_1 (Dropout)         (None, 16)                0         \n",
            "                                                                 \n",
            " hiddenlayer2 (Dense)        (None, 32)                544       \n",
            "                                                                 \n",
            " hiddenlayer3 (Dense)        (None, 32)                1056      \n",
            "                                                                 \n",
            " batch_normalization1 (Batch  (None, 32)               128       \n",
            " Normalization)                                                  \n",
            "                                                                 \n",
            " hiddenlayer4 (Dense)        (None, 64)                2112      \n",
            "                                                                 \n",
            " hiddenlayer5 (Dense)        (None, 64)                4160      \n",
            "                                                                 \n",
            " hiddenlayer6 (Dense)        (None, 128)               8320      \n",
            "                                                                 \n",
            " hiddenlayer7 (Dense)        (None, 128)               16512     \n",
            "                                                                 \n",
            " outputlayer (Dense)         (None, 1)                 129       \n",
            "                                                                 \n",
            "=================================================================\n",
            "Total params: 33,329\n",
            "Trainable params: 33,265\n",
            "Non-trainable params: 64\n",
            "_________________________________________________________________\n",
            "-----------* Creación del modelo mejorado con éxito \n",
            "\n",
            "Epoch 1/600\n",
            "2125/2125 [==============================] - 2s 776us/step - loss: 1.5895 - val_loss: 1.3942\n",
            "Epoch 2/600\n",
            "2125/2125 [==============================] - 2s 722us/step - loss: 1.3552 - val_loss: 1.2999\n",
            "Epoch 3/600\n",
            "2125/2125 [==============================] - 2s 709us/step - loss: 1.2850 - val_loss: 1.2509\n",
            "Epoch 4/600\n",
            "2125/2125 [==============================] - 2s 733us/step - loss: 1.2446 - val_loss: 1.2369\n",
            "Epoch 5/600\n",
            "2125/2125 [==============================] - 2s 711us/step - loss: 1.2260 - val_loss: 1.2161\n",
            "Epoch 6/600\n",
            "2125/2125 [==============================] - 2s 730us/step - loss: 1.2145 - val_loss: 1.2178\n",
            "Epoch 7/600\n",
            "2125/2125 [==============================] - 2s 721us/step - loss: 1.2088 - val_loss: 1.2239\n",
            "Epoch 8/600\n",
            "2125/2125 [==============================] - 2s 718us/step - loss: 1.2049 - val_loss: 1.2112\n",
            "Epoch 9/600\n",
            "2125/2125 [==============================] - 2s 718us/step - loss: 1.2033 - val_loss: 1.2220\n",
            "Epoch 10/600\n",
            "2125/2125 [==============================] - 1s 698us/step - loss: 1.2020 - val_loss: 1.2027\n",
            "Epoch 11/600\n",
            "2125/2125 [==============================] - 1s 699us/step - loss: 1.1999 - val_loss: 1.2026\n",
            "Epoch 12/600\n",
            "2125/2125 [==============================] - 1s 695us/step - loss: 1.1994 - val_loss: 1.1979\n",
            "Epoch 13/600\n",
            "2125/2125 [==============================] - 1s 700us/step - loss: 1.1971 - val_loss: 1.2105\n",
            "Epoch 14/600\n",
            "2125/2125 [==============================] - 1s 697us/step - loss: 1.1956 - val_loss: 1.1948\n",
            "Epoch 15/600\n",
            "2125/2125 [==============================] - 2s 706us/step - loss: 1.1943 - val_loss: 1.2027\n",
            "Epoch 16/600\n",
            "2125/2125 [==============================] - 1s 699us/step - loss: 1.1954 - val_loss: 1.1982\n",
            "Epoch 17/600\n",
            "2125/2125 [==============================] - 2s 709us/step - loss: 1.1936 - val_loss: 1.1924\n",
            "Epoch 18/600\n",
            "2125/2125 [==============================] - 1s 697us/step - loss: 1.1921 - val_loss: 1.1931\n",
            "Epoch 19/600\n",
            "2125/2125 [==============================] - 1s 705us/step - loss: 1.1929 - val_loss: 1.1957\n",
            "Epoch 20/600\n",
            "2125/2125 [==============================] - 1s 698us/step - loss: 1.1920 - val_loss: 1.1914\n",
            "Epoch 21/600\n",
            "2125/2125 [==============================] - 1s 706us/step - loss: 1.1924 - val_loss: 1.2084\n",
            "Epoch 22/600\n",
            "2125/2125 [==============================] - 1s 695us/step - loss: 1.1914 - val_loss: 1.1923\n",
            "Epoch 23/600\n",
            "2125/2125 [==============================] - 2s 706us/step - loss: 1.1896 - val_loss: 1.1897\n",
            "Epoch 24/600\n",
            "2125/2125 [==============================] - 1s 695us/step - loss: 1.1899 - val_loss: 1.1969\n",
            "Epoch 25/600\n",
            "2125/2125 [==============================] - 1s 696us/step - loss: 1.1891 - val_loss: 1.1892\n",
            "Epoch 26/600\n",
            "2125/2125 [==============================] - 1s 704us/step - loss: 1.1885 - val_loss: 1.1877\n",
            "Epoch 27/600\n",
            "2125/2125 [==============================] - 1s 697us/step - loss: 1.1903 - val_loss: 1.1933\n",
            "Epoch 28/600\n",
            "2125/2125 [==============================] - 2s 706us/step - loss: 1.1899 - val_loss: 1.1896\n",
            "Epoch 29/600\n",
            "2125/2125 [==============================] - 1s 697us/step - loss: 1.1884 - val_loss: 1.1956\n",
            "Epoch 30/600\n",
            "2125/2125 [==============================] - 2s 706us/step - loss: 1.1893 - val_loss: 1.1920\n",
            "Epoch 31/600\n",
            "2125/2125 [==============================] - 1s 695us/step - loss: 1.1879 - val_loss: 1.1874\n",
            "Epoch 32/600\n",
            "2125/2125 [==============================] - 1s 704us/step - loss: 1.1867 - val_loss: 1.2118\n",
            "Epoch 33/600\n",
            "2125/2125 [==============================] - 1s 697us/step - loss: 1.1875 - val_loss: 1.1913\n",
            "Epoch 34/600\n",
            "2125/2125 [==============================] - 1s 705us/step - loss: 1.1860 - val_loss: 1.2023\n",
            "Epoch 35/600\n",
            "2125/2125 [==============================] - 1s 698us/step - loss: 1.1871 - val_loss: 1.1868\n",
            "Epoch 36/600\n",
            "2125/2125 [==============================] - 2s 718us/step - loss: 1.1870 - val_loss: 1.1865\n",
            "Epoch 37/600\n",
            "2125/2125 [==============================] - 2s 733us/step - loss: 1.1846 - val_loss: 1.1888\n",
            "Epoch 38/600\n",
            "2125/2125 [==============================] - 2s 729us/step - loss: 1.1850 - val_loss: 1.1869\n",
            "Epoch 39/600\n",
            "2125/2125 [==============================] - 2s 724us/step - loss: 1.1861 - val_loss: 1.1832\n",
            "Epoch 40/600\n",
            "2125/2125 [==============================] - 2s 733us/step - loss: 1.1847 - val_loss: 1.1910\n",
            "Epoch 41/600\n",
            "2125/2125 [==============================] - 2s 737us/step - loss: 1.1833 - val_loss: 1.1856\n",
            "Epoch 42/600\n",
            "2125/2125 [==============================] - 2s 734us/step - loss: 1.1844 - val_loss: 1.1910\n",
            "Epoch 43/600\n",
            "2125/2125 [==============================] - 2s 710us/step - loss: 1.1852 - val_loss: 1.1850\n",
            "Epoch 44/600\n",
            "2125/2125 [==============================] - 2s 719us/step - loss: 1.1840 - val_loss: 1.1847\n",
            "Epoch 45/600\n",
            "2125/2125 [==============================] - 2s 721us/step - loss: 1.1833 - val_loss: 1.2015\n",
            "Epoch 46/600\n",
            "2125/2125 [==============================] - 1s 705us/step - loss: 1.1841 - val_loss: 1.1827\n",
            "Epoch 47/600\n",
            "2125/2125 [==============================] - 2s 721us/step - loss: 1.1829 - val_loss: 1.1911\n",
            "Epoch 48/600\n",
            "2125/2125 [==============================] - 2s 711us/step - loss: 1.1827 - val_loss: 1.1839\n",
            "Epoch 49/600\n",
            "2125/2125 [==============================] - 2s 717us/step - loss: 1.1838 - val_loss: 1.1813\n",
            "Epoch 50/600\n",
            "2125/2125 [==============================] - 2s 709us/step - loss: 1.1831 - val_loss: 1.1819\n",
            "Epoch 51/600\n",
            "2125/2125 [==============================] - 2s 714us/step - loss: 1.1822 - val_loss: 1.1871\n",
            "Epoch 52/600\n",
            "2125/2125 [==============================] - 2s 707us/step - loss: 1.1825 - val_loss: 1.1880\n",
            "Epoch 53/600\n",
            "2125/2125 [==============================] - 2s 714us/step - loss: 1.1811 - val_loss: 1.1883\n",
            "Epoch 54/600\n",
            "2125/2125 [==============================] - 2s 706us/step - loss: 1.1815 - val_loss: 1.1850\n",
            "Epoch 55/600\n",
            "2125/2125 [==============================] - 2s 710us/step - loss: 1.1822 - val_loss: 1.1829\n",
            "Epoch 56/600\n",
            "2125/2125 [==============================] - 2s 709us/step - loss: 1.1812 - val_loss: 1.1844\n",
            "Epoch 57/600\n",
            "2125/2125 [==============================] - 2s 717us/step - loss: 1.1813 - val_loss: 1.1833\n",
            "Epoch 58/600\n",
            "2125/2125 [==============================] - 1s 704us/step - loss: 1.1806 - val_loss: 1.1922\n",
            "Epoch 59/600\n",
            "2125/2125 [==============================] - 2s 714us/step - loss: 1.1815 - val_loss: 1.1893\n",
            "Epoch 60/600\n",
            "2125/2125 [==============================] - 1s 704us/step - loss: 1.1814 - val_loss: 1.1823\n",
            "Epoch 61/600\n",
            "2125/2125 [==============================] - 2s 718us/step - loss: 1.1816 - val_loss: 1.1835\n",
            "Epoch 62/600\n",
            "2125/2125 [==============================] - 2s 707us/step - loss: 1.1800 - val_loss: 1.1834\n",
            "Epoch 63/600\n",
            "2125/2125 [==============================] - 2s 715us/step - loss: 1.1799 - val_loss: 1.1955\n",
            "Epoch 64/600\n",
            "2125/2125 [==============================] - 2s 720us/step - loss: 1.1795 - val_loss: 1.1826\n",
            "Epoch 65/600\n",
            "2125/2125 [==============================] - 1s 705us/step - loss: 1.1810 - val_loss: 1.1837\n",
            "Epoch 66/600\n",
            "2125/2125 [==============================] - 2s 716us/step - loss: 1.1781 - val_loss: 1.1817\n",
            "Epoch 67/600\n",
            "2125/2125 [==============================] - 2s 707us/step - loss: 1.1808 - val_loss: 1.1910\n",
            "Epoch 68/600\n",
            "2125/2125 [==============================] - 2s 717us/step - loss: 1.1804 - val_loss: 1.1800\n",
            "Epoch 69/600\n",
            "2125/2125 [==============================] - 2s 708us/step - loss: 1.1800 - val_loss: 1.1829\n",
            "Epoch 70/600\n",
            "2125/2125 [==============================] - 2s 714us/step - loss: 1.1807 - val_loss: 1.1809\n",
            "Epoch 71/600\n",
            "2125/2125 [==============================] - 2s 720us/step - loss: 1.1808 - val_loss: 1.1847\n",
            "Epoch 72/600\n",
            "2125/2125 [==============================] - 1s 705us/step - loss: 1.1814 - val_loss: 1.1844\n",
            "Epoch 73/600\n",
            "2125/2125 [==============================] - 2s 716us/step - loss: 1.1797 - val_loss: 1.1787\n",
            "Epoch 74/600\n",
            "2125/2125 [==============================] - 2s 707us/step - loss: 1.1803 - val_loss: 1.1825\n",
            "Epoch 75/600\n",
            "2125/2125 [==============================] - 2s 719us/step - loss: 1.1789 - val_loss: 1.1827\n",
            "Epoch 76/600\n",
            "2125/2125 [==============================] - 2s 716us/step - loss: 1.1777 - val_loss: 1.1872\n",
            "Epoch 77/600\n",
            "2125/2125 [==============================] - 2s 707us/step - loss: 1.1792 - val_loss: 1.1817\n",
            "Epoch 78/600\n",
            "2125/2125 [==============================] - 2s 721us/step - loss: 1.1797 - val_loss: 1.1824\n",
            "Epoch 79/600\n",
            "2125/2125 [==============================] - 2s 706us/step - loss: 1.1795 - val_loss: 1.1933\n",
            "Epoch 80/600\n",
            "2125/2125 [==============================] - 2s 723us/step - loss: 1.1783 - val_loss: 1.1805\n",
            "Epoch 81/600\n",
            "2125/2125 [==============================] - 1s 703us/step - loss: 1.1775 - val_loss: 1.1806\n",
            "Epoch 82/600\n",
            "2125/2125 [==============================] - 2s 721us/step - loss: 1.1786 - val_loss: 1.1961\n",
            "Epoch 83/600\n",
            "2125/2125 [==============================] - 2s 717us/step - loss: 1.1780 - val_loss: 1.1889\n",
            "Epoch 84/600\n",
            "2125/2125 [==============================] - 2s 709us/step - loss: 1.1787 - val_loss: 1.1854\n",
            "Epoch 85/600\n",
            "2125/2125 [==============================] - 2s 716us/step - loss: 1.1786 - val_loss: 1.1857\n",
            "Epoch 86/600\n",
            "2125/2125 [==============================] - 2s 711us/step - loss: 1.1786 - val_loss: 1.1900\n",
            "Epoch 87/600\n",
            "2125/2125 [==============================] - 2s 719us/step - loss: 1.1778 - val_loss: 1.1847\n",
            "Epoch 88/600\n",
            "2125/2125 [==============================] - 2s 715us/step - loss: 1.1792 - val_loss: 1.1790\n",
            "Epoch 89/600\n",
            "2125/2125 [==============================] - 1s 705us/step - loss: 1.1773 - val_loss: 1.1970\n",
            "Epoch 90/600\n",
            "2125/2125 [==============================] - 2s 717us/step - loss: 1.1793 - val_loss: 1.1881\n",
            "Epoch 91/600\n",
            "2125/2125 [==============================] - 2s 708us/step - loss: 1.1782 - val_loss: 1.1769\n",
            "Epoch 92/600\n",
            "2125/2125 [==============================] - 2s 717us/step - loss: 1.1789 - val_loss: 1.1854\n",
            "Epoch 93/600\n",
            "2125/2125 [==============================] - 2s 721us/step - loss: 1.1781 - val_loss: 1.1848\n",
            "Epoch 94/600\n",
            "2125/2125 [==============================] - 2s 709us/step - loss: 1.1789 - val_loss: 1.1806\n",
            "Epoch 95/600\n",
            "2125/2125 [==============================] - 2s 713us/step - loss: 1.1794 - val_loss: 1.1815\n",
            "Epoch 96/600\n",
            "2125/2125 [==============================] - 2s 711us/step - loss: 1.1776 - val_loss: 1.1822\n",
            "Epoch 97/600\n",
            "2125/2125 [==============================] - 2s 718us/step - loss: 1.1769 - val_loss: 1.1836\n",
            "Epoch 98/600\n",
            "2125/2125 [==============================] - 2s 718us/step - loss: 1.1800 - val_loss: 1.1816\n",
            "Epoch 99/600\n",
            "2125/2125 [==============================] - 2s 706us/step - loss: 1.1776 - val_loss: 1.1837\n",
            "Epoch 100/600\n",
            "2125/2125 [==============================] - 2s 718us/step - loss: 1.1769 - val_loss: 1.1782\n",
            "Epoch 101/600\n",
            "2125/2125 [==============================] - 1s 705us/step - loss: 1.1771 - val_loss: 1.1858\n",
            "Epoch 102/600\n",
            "2125/2125 [==============================] - 2s 708us/step - loss: 1.1769 - val_loss: 1.1823\n",
            "Epoch 103/600\n",
            "2125/2125 [==============================] - 2s 707us/step - loss: 1.1794 - val_loss: 1.1858\n",
            "Epoch 104/600\n",
            "2125/2125 [==============================] - 2s 720us/step - loss: 1.1782 - val_loss: 1.1893\n",
            "Epoch 105/600\n",
            "2125/2125 [==============================] - 2s 716us/step - loss: 1.1775 - val_loss: 1.1821\n",
            "Epoch 106/600\n",
            "2125/2125 [==============================] - 1s 705us/step - loss: 1.1774 - val_loss: 1.1871\n",
            "Epoch 107/600\n",
            "2125/2125 [==============================] - 2s 720us/step - loss: 1.1771 - val_loss: 1.1857\n",
            "Epoch 108/600\n",
            "2125/2125 [==============================] - 2s 706us/step - loss: 1.1776 - val_loss: 1.1825\n",
            "Epoch 109/600\n",
            "2125/2125 [==============================] - 2s 717us/step - loss: 1.1775 - val_loss: 1.1813\n",
            "Epoch 110/600\n",
            "2125/2125 [==============================] - 2s 716us/step - loss: 1.1778 - val_loss: 1.1843\n",
            "Epoch 111/600\n",
            "2125/2125 [==============================] - 2s 711us/step - loss: 1.1796 - val_loss: 1.1837\n",
            "Epoch 112/600\n",
            "2125/2125 [==============================] - 2s 717us/step - loss: 1.1788 - val_loss: 1.1789\n",
            "Epoch 113/600\n",
            "2125/2125 [==============================] - 2s 708us/step - loss: 1.1778 - val_loss: 1.1854\n",
            "Epoch 114/600\n",
            "2125/2125 [==============================] - 2s 717us/step - loss: 1.1770 - val_loss: 1.1950\n",
            "Epoch 115/600\n",
            "2125/2125 [==============================] - 2s 715us/step - loss: 1.1760 - val_loss: 1.1804\n",
            "Epoch 116/600\n",
            "2125/2125 [==============================] - 2s 713us/step - loss: 1.1775 - val_loss: 1.1807\n",
            "Epoch 117/600\n",
            "2125/2125 [==============================] - 2s 719us/step - loss: 1.1770 - val_loss: 1.1783\n",
            "Epoch 118/600\n",
            "2125/2125 [==============================] - 2s 719us/step - loss: 1.1767 - val_loss: 1.1794\n",
            "Epoch 119/600\n",
            "2125/2125 [==============================] - 2s 711us/step - loss: 1.1761 - val_loss: 1.1840\n",
            "Epoch 120/600\n",
            "2125/2125 [==============================] - 2s 718us/step - loss: 1.1790 - val_loss: 1.1856\n",
            "Epoch 121/600\n",
            "2125/2125 [==============================] - 2s 710us/step - loss: 1.1769 - val_loss: 1.1811\n",
            "Epoch 122/600\n",
            "2125/2125 [==============================] - 2s 718us/step - loss: 1.1761 - val_loss: 1.1849\n",
            "Epoch 123/600\n",
            "2125/2125 [==============================] - 2s 721us/step - loss: 1.1771 - val_loss: 1.1788\n",
            "Epoch 124/600\n",
            "2125/2125 [==============================] - 2s 709us/step - loss: 1.1769 - val_loss: 1.1870\n",
            "Epoch 125/600\n",
            "2125/2125 [==============================] - 2s 723us/step - loss: 1.1769 - val_loss: 1.1805\n",
            "Epoch 126/600\n",
            "2125/2125 [==============================] - 2s 708us/step - loss: 1.1767 - val_loss: 1.1814\n",
            "Epoch 127/600\n",
            "2125/2125 [==============================] - 2s 718us/step - loss: 1.1746 - val_loss: 1.1824\n",
            "Epoch 128/600\n",
            "2125/2125 [==============================] - 2s 719us/step - loss: 1.1758 - val_loss: 1.1888\n",
            "Epoch 129/600\n",
            "2125/2125 [==============================] - 2s 713us/step - loss: 1.1752 - val_loss: 1.1791\n",
            "Epoch 130/600\n",
            "2125/2125 [==============================] - 2s 717us/step - loss: 1.1766 - val_loss: 1.1827\n",
            "Epoch 131/600\n",
            "2125/2125 [==============================] - 2s 717us/step - loss: 1.1763 - val_loss: 1.1778\n",
            "-----------* Modelo mejorado entrenado con éxito \n",
            "\n"
          ]
        }
      ],
      "source": [
        "# Creamos callback Ealry stopping\n",
        "early_stopping = tf.keras.callbacks.EarlyStopping(patience = 40, mode =  \"min\")\n",
        "\n",
        "# Crea y compila el modelo mejorado\n",
        "model_better = set_nn_model_architecture_better()\n",
        "\n",
        "print(\"-----------* Creación del modelo mejorado con éxito \\n\")\n",
        "\n",
        "# Define el optimizador\n",
        "adam2 = tf.keras.optimizers.legacy.Adam(learning_rate=0.001)\n",
        "\n",
        "# Compila el modelo\n",
        "model_better.compile(optimizer=adam2, loss='mean_squared_error')\n",
        "\n",
        "# Entrena el modelo con tus datos\n",
        "training_history_better = model_better.fit(X_train_scaled, y_train_encoded, epochs=600, validation_split=0.15, callbacks=[early_stopping])\n",
        "\n",
        "print(\"-----------* Modelo mejorado entrenado con éxito \\n\")"
      ]
    },
    {
      "cell_type": "code",
      "execution_count": 96,
      "metadata": {},
      "outputs": [
        {
          "name": "stdout",
          "output_type": "stream",
          "text": [
            "Evaluación del modelo: Red Neuronal Mejorado \n",
            "\n",
            "  1/625 [..............................] - ETA: 6s"
          ]
        },
        {
          "name": "stdout",
          "output_type": "stream",
          "text": [
            "625/625 [==============================] - 0s 264us/step\n",
            "Error Cuadrático Medio (MSE): 1.1628009420225314\n",
            "Raíz del Error Cuadrático Medio (RMSE): 1.0783324821327285\n",
            "Coeficiente de Determinación (R2): 0.07647142253011163\n"
          ]
        }
      ],
      "source": [
        "# Realizar predicciones en el conjunto de prueba y evaluar el modelo\n",
        "print(\"Evaluación del modelo: Red Neuronal Mejorado \\n\")\n",
        "evaluar_modelo(model_better, X_test_scaled, y_test_encoded)"
      ]
    },
    {
      "cell_type": "markdown",
      "metadata": {},
      "source": [
        "Evaluación del cuarto modelo: Red Neuronal \n",
        "\n",
        "625/625 [==============================] - 0s 182us/step\n",
        "Error Cuadrático Medio (MSE): 1.1790244052980738\n",
        "Raíz del Error Cuadrático Medio (RMSE): 1.0858289024050123\n",
        "Coeficiente de Determinación (R2): 0.06358630056380477"
      ]
    },
    {
      "cell_type": "code",
      "execution_count": 100,
      "metadata": {},
      "outputs": [
        {
          "name": "stdout",
          "output_type": "stream",
          "text": [
            "\n",
            " Análisis del modelo: Red Neuronal Mejorado \n",
            "\n"
          ]
        },
        {
          "data": {
            "image/png": "[encoded data removed]",
            "text/plain": [
              "<Figure size 640x480 with 1 Axes>"
            ]
          },
          "metadata": {},
          "output_type": "display_data"
        },
        {
          "data": {
            "image/png": "[encoded data removed]",
            "text/plain": [
              "<Figure size 640x480 with 1 Axes>"
            ]
          },
          "metadata": {},
          "output_type": "display_data"
        },
        {
          "name": "stdout",
          "output_type": "stream",
          "text": [
            "                   Loss\n",
            "Entrenamiento  1.176318\n",
            "Validación     1.177830\n"
          ]
        }
      ],
      "source": [
        "print(\"\\n Análisis del modelo: Red Neuronal Mejorado \\n\")\n",
        "#plt.ylim(1, 2)\n",
        "plot_acc_loss(training_history_better) # Observamos su exactitud y pérdida a lo largo de las epochs\n",
        "\n",
        "plt.ylim(1.1, 1.25)\n",
        "plot_acc_loss(training_history_better) # hacemos zoom\n",
        "\n",
        "# Crear un nuevo DataFrame con las métricas finales\n",
        "df_last_metrics = pd.DataFrame({\n",
        "    'Loss': [training_history_better.history['loss'][-1], training_history_better.history['val_loss'][-1]]\n",
        "    \n",
        "}, index=['Entrenamiento', 'Validación'])\n",
        "\n",
        "print(df_last_metrics)"
      ]
    },
    {
      "cell_type": "code",
      "execution_count": 102,
      "metadata": {},
      "outputs": [
        {
          "name": "stdout",
          "output_type": "stream",
          "text": [
            "\n",
            "Tomando en consideración las métricas y gráficas de curva de aprendizaje del modelo, se concluye que el modelo tiene una mejora en su ajuste a los datos.\n",
            "El grado de sesgo ha disminuido y la varianza es moderada pues el modelo no esta sobreajustado significativamente a los datos. Asimismo, el coeficiente\n",
            "de determinación nos indica que el modelo si explica una parte de la variabilidad de los datos pero no es la mayoría. \n",
            "\n",
            "      \n",
            "En resumen, el modelo de Red Neuronal Mejorado tiene un bajo sesgo, una varianza moderada y se ajusta aceptablemente bien a los datos de entrenamiento. \n",
            "Sin embargo, todavía hay margen de mejora para futuros proyectos. Por el momento, trabajaremos con el modelo mejorado para construir el sistema de recomendación.\n",
            "\n",
            "-----------* Modelo mejorado con éxito \n",
            "\n"
          ]
        }
      ],
      "source": [
        "print(\"\"\"\n",
        "Tomando en consideración las métricas y gráficas de curva de aprendizaje del modelo, se concluye que el modelo tiene una mejora en su ajuste a los datos.\n",
        "El grado de sesgo ha disminuido y la varianza es moderada pues el modelo no esta sobreajustado significativamente a los datos. Asimismo, el coeficiente\n",
        "de determinación nos indica que el modelo si explica una parte de la variabilidad de los datos pero no es la mayoría. \n",
        "\n",
        "      \n",
        "En resumen, el modelo de Red Neuronal Mejorado tiene un bajo sesgo, una varianza moderada y se ajusta aceptablemente bien a los datos de entrenamiento. \n",
        "Sin embargo, todavía hay margen de mejora para futuros proyectos. Por el momento, trabajaremos con el modelo mejorado para construir el sistema de recomendación.\n",
        "\"\"\")\n",
        "\n",
        "print(\"-----------* Modelo mejorado con éxito \\n\")  \n"
      ]
    },
    {
      "cell_type": "markdown",
      "metadata": {
        "id": "YbS9u6qRpXNd"
      },
      "source": [
        "## 5. Construir sistema de recomendación\n"
      ]
    },
    {
      "cell_type": "code",
      "execution_count": 227,
      "metadata": {},
      "outputs": [
        {
          "name": "stdout",
          "output_type": "stream",
          "text": [
            "-----------* Nuevas funciones definidas con éxito \n",
            "\n"
          ]
        }
      ],
      "source": [
        "# Definir la función que nos ayuará a predecir en un futuro\n",
        "\n",
        "    # Función que dado un usuario, entrega los id de las películas que no ha calificado\n",
        "def obtener_peliculas_no_calificadas(usuario_especifico):\n",
        "    # Filtrar las calificaciones del usuario específico en data_general\n",
        "    calificaciones_usuario = data_general[data_general['user_id'] == usuario_especifico]\n",
        "\n",
        "    # Obtener la lista de 'movie_id' de las películas calificadas por el usuario\n",
        "    peliculas_calificadas_por_usuario = calificaciones_usuario['movie_id'].tolist()\n",
        "\n",
        "    # Filtrar las películas en data_item para excluir las que el usuario ya calificó\n",
        "    peliculas_no_calificadas = data_item[~data_item['movie_id'].isin(peliculas_calificadas_por_usuario)]\n",
        "\n",
        "    # Agregar una columna 'user_id' con el valor proporcionado\n",
        "    peliculas_no_calificadas['user_id'] = usuario_especifico\n",
        "\n",
        "    return peliculas_no_calificadas\n",
        "\n",
        "    # Función que fuciona y prepara los datos para poder predecir con ellos (todo en función al usuario otorgado)\n",
        "def generar_X_para_predicciones(peliculas_no_calf):\n",
        "\n",
        "    # Aplicar la función obtener_genre_name para crear la columna 'genre_name'\n",
        "    peliculas_no_calf['genre_name'] = peliculas_no_calf['movie_id'].apply(obtener_genre_name)\n",
        "\n",
        "    # Combinamos las calificaciones con las características del usuario\n",
        "    peliculas_no_calf = pd.merge(peliculas_no_calf, data_user, on='user_id')\n",
        "\n",
        "    # Pasar gender a 0 y 1 {'M': 1, 'F': 0}\n",
        "    peliculas_no_calf['gender'] = peliculas_no_calf['gender'].replace({'M': 1, 'F': 0})\n",
        "    peliculas_no_calf.rename(columns={'gender': 'gender_M'}, inplace=True)\n",
        "\n",
        "    X_pred = peliculas_no_calf[['user_id', 'movie_id', 'age', 'gender_M', 'genre_name']]\n",
        "\n",
        "    # Realizar one hot encoding\n",
        "    X_pred_encoded = pd.get_dummies(X_pred, columns=['genre_name'], drop_first=True)\n",
        "\n",
        "    return X_pred_encoded\n",
        "\n",
        "def cinco_recomendaciones(X_pred_encoded):\n",
        "    # Ajusta (calcula la media y la desviación estándar) y transforma X_pred_encoded\n",
        "    X_pred_scaled = scaler.fit_transform(X_pred_encoded)\n",
        "\n",
        "    # Realizar predicciones con el modelo\n",
        "    predicciones = model_better.predict(X_pred_scaled)\n",
        "\n",
        "    # Crear un DataFrame con las predicciones\n",
        "    df_predicciones = pd.DataFrame(predicciones, columns=['Posible calificación'])\n",
        "\n",
        "    # Unir las predicciones al DataFrame original (X_pred_encoded)\n",
        "    X_pred_con_predicciones = pd.concat([X_pred_encoded['movie_id'], df_predicciones], axis=1)\n",
        "\n",
        "    # Reordenar de mayor a menor para poder tomar las cinco peliculas con mejor calificación\n",
        "    X_pred_con_predicciones = X_pred_con_predicciones.sort_values(by='Posible calificación', ascending=False).head(5)\n",
        "\n",
        "    # Obtener titulos de las peliculas usando 'movie_id' como clave\n",
        "    result = X_pred_con_predicciones.merge(data_item[['movie_id', 'movie_title']], on='movie_id', how='left')\n",
        "\n",
        "    # Redondear calificación\n",
        "    result['Posible calificación'] = result['Posible calificación'].astype(int)\n",
        "\n",
        "    # Renombrar columna de movie_title\n",
        "    result.rename(columns={'movie_title': 'Peliculas recomendadas'}, inplace=True)\n",
        "\n",
        "    return result[['Peliculas recomendadas', 'Posible calificación']]\n",
        "\n",
        "def sistema_de_recomendaciones(usuario_especifico):\n",
        "\n",
        "    # Usamos las funciones que componen nuestro sistema de recomendación\n",
        "    peliculas_no_calf = obtener_peliculas_no_calificadas(usuario_especifico)\n",
        "    X_pred_encoded = generar_X_para_predicciones(peliculas_no_calf)\n",
        "    recomendaciones = cinco_recomendaciones(X_pred_encoded)\n",
        "\n",
        "    # Imprimir información sobre el usuario\n",
        "        # Obtener información del usuario\n",
        "    usuario_info = data_user[data_user['user_id'] == usuario_especifico]\n",
        "\n",
        "    print(\"\\nInformación del Usuario: \", usuario_especifico, \"--------------------------\")\n",
        "    print(\"- Género:\", usuario_info['gender'].values[0])\n",
        "    print(\"- Edad:\", usuario_info['age'].values[0])\n",
        "    print(\"- Ocupación:\", usuario_info['occupation'].values[0])\n",
        "\n",
        "    # Imprimir recomendaciones de películas junto con un mensaje llamativo\n",
        "    print(\"\\n¡Estas son sus películas recomendadas!\\n\")\n",
        "    print(recomendaciones) \n",
        "    \n",
        "\n",
        "print(\"-----------* Nuevas funciones definidas con éxito \\n\")\n"
      ]
    },
    {
      "cell_type": "markdown",
      "metadata": {},
      "source": [
        "## 6. Predicciones\n"
      ]
    },
    {
      "cell_type": "code",
      "execution_count": 224,
      "metadata": {},
      "outputs": [
        {
          "name": "stdout",
          "output_type": "stream",
          "text": [
            "-----------* Preparando predicciones \n",
            "\n",
            "52/52 [==============================] - 0s 340us/step\n",
            "\n",
            "Información del Usuario:  179 --------------------------\n",
            "- Género: M\n",
            "- Edad: 15\n",
            "- Ocupación: entertainment\n",
            "\n",
            "¡Estas son sus películas recomendadas!\n",
            "\n",
            "           Peliculas recomendadas  Posible calificación\n",
            "0  Hungarian Fairy Tale, A (1987)                     4\n",
            "1             Blade Runner (1982)                     4\n",
            "2                  Stalker (1979)                     4\n",
            "3               Just Cause (1995)                     4\n",
            "4                 Gaslight (1944)                     4\n",
            "51/51 [==============================] - 0s 280us/step\n",
            "\n",
            "Información del Usuario:  3 --------------------------\n",
            "- Género: M\n",
            "- Edad: 23\n",
            "- Ocupación: writer\n",
            "\n",
            "¡Estas son sus películas recomendadas!\n",
            "\n",
            "           Peliculas recomendadas  Posible calificación\n",
            "0                  Stalker (1979)                     4\n",
            "1  Hungarian Fairy Tale, A (1987)                     4\n",
            "2               Just Cause (1995)                     4\n",
            "3                 Gaslight (1944)                     4\n",
            "4             Blade Runner (1982)                     4\n",
            "45/45 [==============================] - 0s 293us/step\n",
            "\n",
            "Información del Usuario:  280 --------------------------\n",
            "- Género: F\n",
            "- Edad: 30\n",
            "- Ocupación: librarian\n",
            "\n",
            "¡Estas son sus películas recomendadas!\n",
            "\n",
            "       Peliculas recomendadas  Posible calificación\n",
            "0         Blade Runner (1982)                     4\n",
            "1              Stalker (1979)                     4\n",
            "2           Just Cause (1995)                     4\n",
            "3             Gaslight (1944)                     4\n",
            "4  Maltese Falcon, The (1941)                     4\n",
            "52/52 [==============================] - 0s 297us/step\n",
            "\n",
            "Información del Usuario:  61 --------------------------\n",
            "- Género: M\n",
            "- Edad: 36\n",
            "- Ocupación: engineer\n",
            "\n",
            "¡Estas son sus películas recomendadas!\n",
            "\n",
            "           Peliculas recomendadas  Posible calificación\n",
            "0  Hungarian Fairy Tale, A (1987)                     4\n",
            "1                  Stalker (1979)                     4\n",
            "2               Just Cause (1995)                     4\n",
            "3             Blade Runner (1982)                     4\n",
            "4                 Gaslight (1944)                     4\n",
            "52/52 [==============================] - 0s 268us/step\n",
            "\n",
            "Información del Usuario:  925 --------------------------\n",
            "- Género: F\n",
            "- Edad: 18\n",
            "- Ocupación: salesman\n",
            "\n",
            "¡Estas son sus películas recomendadas!\n",
            "\n",
            "           Peliculas recomendadas  Posible calificación\n",
            "0  Hungarian Fairy Tale, A (1987)                     4\n",
            "1                  Stalker (1979)                     4\n",
            "2                 Gaslight (1944)                     4\n",
            "3               Just Cause (1995)                     4\n",
            "4             Blade Runner (1982)                     4\n"
          ]
        }
      ],
      "source": [
        "print(\"-----------* Preparando predicciones \\n\")\n",
        "\n",
        "sistema_de_recomendaciones(179)\n",
        "sistema_de_recomendaciones(3)\n",
        "sistema_de_recomendaciones(280)\n",
        "sistema_de_recomendaciones(61)\n",
        "sistema_de_recomendaciones(925)"
      ]
    },
    {
      "cell_type": "code",
      "execution_count": 225,
      "metadata": {},
      "outputs": [
        {
          "name": "stdout",
          "output_type": "stream",
          "text": [
            "-----------* Predicciones realizadas con éxito \n",
            "\n",
            "\n",
            "-----------* Programa ejecutado con éxito \n",
            "\n"
          ]
        }
      ],
      "source": [
        "print(\"-----------* Predicciones realizadas con éxito \\n\")\n",
        "\n",
        "print(\"\\n-----------* Programa ejecutado con éxito \\n\")"
      ]
    }
  ],
  "metadata": {
    "colab": {
      "provenance": [],
      "toc_visible": true
    },
    "kernelspec": {
      "display_name": "Python 3",
      "name": "python3"
    },
    "language_info": {
      "codemirror_mode": {
        "name": "ipython",
        "version": 3
      },
      "file_extension": ".py",
      "mimetype": "text/x-python",
      "name": "python",
      "nbconvert_exporter": "python",
      "pygments_lexer": "ipython3",
      "version": "3.11.4"
    }
  },
  "nbformat": 4,
  "nbformat_minor": 0
}
